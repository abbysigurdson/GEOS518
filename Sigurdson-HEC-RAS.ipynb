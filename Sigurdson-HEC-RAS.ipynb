{
 "cells": [
  {
   "cell_type": "markdown",
   "id": "d73cdeef-3d2c-4199-95fa-b50d80c60fa4",
   "metadata": {},
   "source": [
    "## __Semester Project__\n",
    "\n",
    "### __HEC-RAS and Contaminant Transport__\n",
    "\n",
    "#### Abby Sigurdson\n",
    "#### December 15, 2021"
   ]
  },
  {
   "cell_type": "markdown",
   "id": "89d2f8f1-a6f0-4534-9d46-d9706a4e4873",
   "metadata": {},
   "source": [
    "## __1. Introduction__"
   ]
  },
  {
   "cell_type": "markdown",
   "id": "46fb8546-b94b-49c1-9c54-90694ab7f3c6",
   "metadata": {},
   "source": [
    "The proposed engineering challenge that will be analyzed in this report is contaminant transport modeling. HEC-RAS was developed by the United States Army Corps of Engineers (USACE) and is an open resourced modeling tool. The first version of HEC-RAS was released in 1995. HEC-RAS is commonly known hydrologic modeling tool that was originally developed to aid with flow and floodplain analysis. Presently, HEC-RAS has the capability to model stream flow, debris, sediment transport, and water quality. The advancement of HEC-RAS modeling could then be applied to modern problems. In recent years emerging contaminants have become increasingly important. These contaminants can consist of anything from perfumes to pharmaceuticals. These contaminants primarily enter natural systems through wastewater treatment facility discharge. The largest known ecological impact was found 20 years ago when a study was conducted on smallmouth bass in upstate New York. A more recent study in 2014 found an upwards of 85% of the surveyed smallmouth bass male fish were found to be intersex (USGS, 2015). However, most of the impacts are unknown. Accurate modeling could benefit our knowledge of the transport of the contaminants. This information could potentially lead to a better understanding of the impacted areas and in turn expand the research of effects within the impacted ecosystems. Recently, HEC-RAS has been applied to contaminant transport modeling problems. With the use of the HEC-RAS water quality model connected to simulated contaminant transport experiments have shown success with modeling the dispersion represented by the longitudinal dispersion coefficient D (Halaj et al., 2013)."
   ]
  },
  {
   "cell_type": "markdown",
   "id": "55bf51d8-42f4-43d2-ba85-da07454a0df6",
   "metadata": {},
   "source": [
    "![alt text](HEC-RAS-Image.png \"Figure 1: HEC-RAS Model\")\n",
    "#### __Figure 1: HEC-RAS Model__"
   ]
  },
  {
   "cell_type": "markdown",
   "id": "3e887e5b-71bd-476e-b70a-a4b9c3f436c0",
   "metadata": {},
   "source": [
    "## __2. Model Description__"
   ]
  },
  {
   "cell_type": "markdown",
   "id": "1c80f08f-5142-4568-a87b-eeec807b0879",
   "metadata": {},
   "source": [
    "HEC-RAS is a hydrodynamic model that is designed to perform one-dimensional and two-dimensional hydraulic calculations for a full network of natural and constructed channels. The user interacts with HEC-RAS through a graphical user interface to make the software easy to use, this allows the software to maintain a high level of efficiency (USACE, 2021). The HEC-RAS system has the capability to model steady flow, unsteady flow, quasi unsteady flow, movable boundary sediment transport, and water quality analysis. The basic computational procedure of HEC-RAS for steady flow is based on the solution of the one-dimensional energy equation. Losses are evaluated by friction and contraction or expansion, and the momentum equation can be used in situation where the water surface profile is rapidly changing. This being said, HEC-RAS has a variety of functions that aid in the modeling process of natural and engineered waterways. \n",
    "To model the transport of contaminant transport, the basic governing equation based on the principle of conservation of mass and Fick’s law is the advection-dispersion equation (ADE) (Halaj et al, 2013). \n",
    "\n",
    "$$ \n",
    "\\frac{\\partial AC}{\\partial t} + \\frac{\\partial QC}{\\partial x} - \\frac{\\partial }{\\partial x}\n",
    "\\Bigg[AD\\frac{\\partial C}{\\partial x}\\Bigg] = -AKC + C_sq\n",
    "$$\n",
    "\n",
    "Where: \n",
    "\n",
    "C = mass concentration (mg/L)\n",
    "\n",
    "D = Longitudinal dispersion coefficient (m^2/s)\n",
    "\n",
    "A = Stream cross-sectional area (m^2)\n",
    "\n",
    "Q = Discharge (m^3/s)\n",
    "\n",
    "K = Rate of growth or decay of contaminant (1/s)\n",
    "\n",
    "C_s = Concentration of a source (mg/L)\n",
    "\n",
    "q = Discharge of a pollution source (m^2/s)\n",
    "\n",
    "A primary issue is the determination of the dispersion characteristics represented by longitudinal dispersion coefficient D. Theoretical and empirical formulas have shown that the coefficient is variable parameter that depends on hydraulic and morphometric characteristics of the stream reaches.\n",
    "The newer versions of HEC-RAS have applied the QUICKEST-ULTIMATE explicit numerical scheme to solve the one-dimensional ADE to solve pollution transport modeling (Halaj 2013). This is similar to the QUICKEST scheme that was discussed in class. The QUICKEST scheme however, the ULTIMATE algorithm helps avoid numerical oscillations (Lin & Falconer, 1997). The QUICKEST finite difference equation with a constant $c$ and $\\Delta x$ is as follows (Slingerland & Kump, 2011):\n",
    "\n",
    "$$\n",
    "P^{n+1}_i=P^n_i-c\\Bigg[\\Bigg(\\frac{1}{2}(P^n_i+P^n_{i+1})-\\frac{\\Delta x}{2}cGRAD_r-\\frac{\\Delta x^2}{6}(1-c^2-3\\alpha)CURV_r\\Bigg)-\\Bigg(\\frac{1}{2}(P^n_{i-1}+P^n_i)-\\frac{\\Delta x}{2}cGRAD_l-\\frac{\\Delta x^2}{6}(1-c^2-3\\alpha)CURV_l\\Bigg)\\Bigg]+\\alpha\\Bigg[\\Bigg(\\Delta xGRAD_r-\\frac{\\Delta x^2}{2}cCURV_r\\Bigg)-\\Bigg(\\Delta xGRAD_r-\\frac{\\Delta x^2}{2}cCURV_l\\Bigg)\\Bigg],\n",
    "$$\n",
    "\n",
    "Where:\n",
    "\n",
    "$$\n",
    "GRAD_l=(P^n_i-P^n_{i-1})/\\Delta x \n",
    "$$\n",
    "$$\n",
    "CURV_l=(P^n_{i-2}-P^n_i-2P^n_{i-1})/\\Delta x^2\n",
    "$$ \n",
    "$$\n",
    "P^n_l=\\frac{1}{2}(P^n_{i-1}+P^n_i)-\\frac{\\Delta x^2}{8}CURV_l\n",
    "$$\n",
    "and\n",
    "$$\n",
    "GRAD_r=(P^n_{i+1}-P^n_i)/\\Delta x\n",
    "$$\n",
    "$$\n",
    "CURV_r=(P^n_{i-1}-P^n_{i+1}-2P^n_i)/\\Delta x^2\n",
    "$$ \n",
    "$$\n",
    "P^n_r=\\frac{1}{2}(P^n_i+P^n_{i+1})-\\frac{\\Delta x^2}{8}CURV_r\n",
    "$$\n",
    "\n",
    "A study conducted in 2013 by Halaj et al analyzed the application of HEC-RAS water quality model to estimate contaminant spreading in a small stream. The study analyzed three different methods to determine the longitudinal dispersion coefficient. The first method used a salt solution tracer experiment to physically measure the dispersion, the second method was an analytical solution of ADE, and the third method was a numerical model with HEC-RAS (Halaj et al., 2013). The results from the study showed that the HEC-RAS model was most sensitive at the initial injection point since the tracer is not fully mixed at that point (Halaj et al., 2013)."
   ]
  },
  {
   "cell_type": "markdown",
   "id": "35def680-1dbf-446e-9f96-24df257cc253",
   "metadata": {},
   "source": [
    "## __3. Data Needs__"
   ]
  },
  {
   "cell_type": "markdown",
   "id": "1803b47f-d26e-4aaf-9a82-a86a43bcb642",
   "metadata": {},
   "source": [
    "For the HEC-RAS stream conditions, there are several boundary conditions required. The primary required conditions are river reach, slope, and flow. However, several of the boundary conditions depend on the type of analysis. For example, supercritical analyses only require the upstream boundary conditions and subcritical analyses require downstream boundary conditions. This is because supercritical analyses effects occur upstream and subcritical analyses effects occur downstream. There are also factors like the manning’s roughness coefficient that have to be taken into account.\n",
    "For the ADE, there are also several initial conditions like flow and cross-sectional area that need to be known. Other important values are the actual concentration of the contaminant, decay rate if applicable, and the discharge of the pollution source. The most important parameter is the longitudinal dispersion coefficient. As shown in the research paper three different methods were used to compare the longitudinal dispersion coefficients (Halaj et al., 2013). This is important because the dispersion coefficient depends on the hydraulic and morphometric characteristics of the stream (Halaj et al., 2013).\n",
    "As for the QUICKEST-ULTIMATE finite difference equation, it is similar to the QUICK scheme but is more complicated. The QUICK scheme uses the finite difference of “cells”, and the P values are at the center cells (Slingerland & Kump, 2011). To be able to solve for the P value at the n+1 location and i-th time step, the P value at the n-th and i-th needs to be known as well as the i-1 and i+1 values. There are also the P values at the $l$ and $r$ time step which are $i-\\frac{1}{2}$ and $i+\\frac{1}{2}$. These values are also required because they are included in the GRAD and CURV variables."
   ]
  },
  {
   "cell_type": "markdown",
   "id": "edbb217a-9c0a-4bdf-a61f-400f834b1788",
   "metadata": {},
   "source": [
    "## __4. Calibration__"
   ]
  },
  {
   "cell_type": "markdown",
   "id": "11c6b4a7-3cd4-478e-8ab0-8bec50cb7de1",
   "metadata": {},
   "source": [
    "As previously mentioned, the longitudinal dispersion coefficient is a variable of great concern because it depends on the hydraulic and morphometric properties. This variability adds a layer of complexity to be able to apply a general model to a specific waterway. The study conducted by Halaj et al specifically stated, “Although [the] model is able to predict the parameters for practical applications, use of the model has limited confidence unless previously calibrated in the particular river reach under consideration” (2013). This is due to the variability of the longitudinal dispersion coefficient.  From the results of the study, it was shown that smaller cell size and varying the longitudinal dispersion coefficient for the best fit improved the model compared to the experimental data (Halaj et al., 2013).\n",
    "\n",
    "![alt text](Fig5.png \"Title\")\n",
    "#### __Figure 2: Initial Comparison__\n",
    "![alt text](Fig6.png \"Title\")\n",
    "#### __Figure 2: Secondary Comparison__\n",
    "![alt text](Fig7.png \"Title\")\n",
    "#### __Figure 2: Tertiary Comparison__\n",
    "\n",
    "With the optimization of the longitudinal dispersion coefficient, the increased accuracy is apparent. To evaluate the agreement between the modeled and experimental data four terms were evaluated, arithmetic average, standard deviation, maximal concentration, and travel time of concentration peak of experimental and model obtained data. The results which are presented below in Table 1 displays the model is sensitive on model parameter setup for river stations close to the injection point (Halaj et al., 2013). The recommended optimization method from the paper is to decrease the cell size and precisely specify the longitudinal dispersion coefficient in the reaches (Halaj et al., 2013). From the minimal discussion on the calibration methods, it has led me to believe a direct solve method was used to optimize the longitudinal dispersion coefficient."
   ]
  },
  {
   "cell_type": "markdown",
   "id": "0435df52-394d-4e11-accb-2c00cf3ec35b",
   "metadata": {},
   "source": [
    "## __5. Numerical Experiment Design__"
   ]
  },
  {
   "cell_type": "markdown",
   "id": "77188a23-a6e0-4ab4-b39d-8b8ab38ffb4f",
   "metadata": {},
   "source": [
    "In the study conducted by Halaj et al, the contaminant transport was analyzed with HEC-RAS with limited success through optimization techniques. I would want to further expand this research by improving the optimization of the longitudinal dispersion coefficient. To be able to do so I would use a similar approach of collecting experimental data to compare the model. Ideally, there would be several water analyses phases within the data to analyze such as low flow analysis and high flow analysis. \n",
    "With the experimental data I would want to conduct a calibration method similar to a random walk where the dispersion coefficient would be the primary optimal parameter. In this particular numerical experiment, I would primarily focus on the optimization of the initial injection point of the tracer. Ideally, there would be several years of data to train the model with. This period would then be followed by several years of validating the model. The end goal would be to use a similar channel and test the model comparatively to this new channel that the model hadn’t seen before. With appropriate assumptions, the modeling of the “new” channel could produce relatively accurate results. However, it is unlikely that the model would be able to yield good results from a substantially different channel without first being calibrated to the channel."
   ]
  },
  {
   "cell_type": "markdown",
   "id": "9fab2d2f-4251-4170-b3ec-29dc99a26dae",
   "metadata": {},
   "source": [
    "## __6. References__"
   ]
  },
  {
   "cell_type": "markdown",
   "id": "491c3810-6831-45fd-a684-6be5013cb5e2",
   "metadata": {},
   "source": [
    "Halaj, P., Barek, V., Barekova, A., & Halajova, D. (2013). Application of HEC-RAS Water Quality Model to Estimate Contaminant Spreading in Small Stream. *Journal of International Scientific Publications: Materials Methods & Technologies*, 7(1), 482-491. https://inis.iaea.org/search/search.aspx?orig_q=RN:45107993\n",
    "\n",
    "Lin, B., & Falconer, R. A. (1997). Tidal flow and transport modeling using ULTIMATE QUICKEST scheme. \n",
    "*Journal of Hydraulic Engineering*, 123(4), 303-314. DOI: 10.1061/(ASCE)0733-9429(1997)123:4(303)\n",
    "\n",
    "Slingerland, R., & Kump, L. (2011). *Mathematical Modeling of Earth’s Dynamical Systems*. Princeton, New Jersey: Princeton University Press.\n",
    "\n",
    "US Army Corps of Engineers. (2021). HEC-RAS 6.0, User’s Manual. *US Army Corps of Engineers*. https://www.hec.usace.army.mil/software/hec-ras/documentation.aspx \n",
    "\n",
    "USGS Communications and Publishing. (2015). Eighty five percent of male smallmouth bass and 27 percent of male largemouth bass tested in waters in or near 19 National Wildlife Refuges in the Northeast U.S. were intersex, according to a new study by U.S. Geological Survey and U.S. Fish and Wildlife Service researchers. *USGS*. https://www.usgs.gov/news/national-news-release/intersex-prevalent-black-bass-inhabiting-national-wildlife-refuges"
   ]
  }
 ],
 "metadata": {
  "kernelspec": {
   "display_name": "Python 3",
   "language": "python",
   "name": "python3"
  },
  "language_info": {
   "codemirror_mode": {
    "name": "ipython",
    "version": 3
   },
   "file_extension": ".py",
   "mimetype": "text/x-python",
   "name": "python",
   "nbconvert_exporter": "python",
   "pygments_lexer": "ipython3",
   "version": "3.8.8"
  }
 },
 "nbformat": 4,
 "nbformat_minor": 5
}
